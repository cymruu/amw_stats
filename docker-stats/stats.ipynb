{
 "cells": [
  {
   "cell_type": "code",
   "execution_count": null,
   "metadata": {
    "execution": {
     "iopub.execute_input": "2022-05-13T17:39:39.232830Z",
     "iopub.status.busy": "2022-05-13T17:39:39.232245Z",
     "iopub.status.idle": "2022-05-13T17:39:39.761806Z",
     "shell.execute_reply": "2022-05-13T17:39:39.761116Z"
    }
   },
   "outputs": [],
   "source": [
    "import pandas as pd\n",
    "import numpy as np\n",
    "import matplotlib.pyplot as plot\n"
   ]
  },
  {
   "cell_type": "code",
   "execution_count": null,
   "metadata": {
    "execution": {
     "iopub.execute_input": "2022-05-13T17:39:39.763923Z",
     "iopub.status.busy": "2022-05-13T17:39:39.763676Z",
     "iopub.status.idle": "2022-05-13T17:39:39.766352Z",
     "shell.execute_reply": "2022-05-13T17:39:39.765928Z"
    }
   },
   "outputs": [],
   "source": [
    "import os\n",
    "results_path = './results'\n",
    "if not os.path.exists(results_path):\n",
    "    os.mkdir(results_path)\n"
   ]
  },
  {
   "cell_type": "code",
   "execution_count": null,
   "metadata": {
    "execution": {
     "iopub.execute_input": "2022-05-13T17:39:39.768002Z",
     "iopub.status.busy": "2022-05-13T17:39:39.767867Z",
     "iopub.status.idle": "2022-05-13T17:39:39.802397Z",
     "shell.execute_reply": "2022-05-13T17:39:39.801957Z"
    }
   },
   "outputs": [],
   "source": [
    "actions = pd.read_json('../exported/actions.json')\n",
    "actions['_id'] = actions['_id'].apply(lambda x: x['$oid'])\n",
    "actions['time'] = actions['time'].apply(lambda x: x['$date'])\n",
    "actions['time'] = pd.to_datetime(actions['time'])\n"
   ]
  },
  {
   "cell_type": "code",
   "execution_count": null,
   "metadata": {
    "execution": {
     "iopub.execute_input": "2022-05-13T17:39:39.804245Z",
     "iopub.status.busy": "2022-05-13T17:39:39.804123Z",
     "iopub.status.idle": "2022-05-13T17:39:39.813828Z",
     "shell.execute_reply": "2022-05-13T17:39:39.813321Z"
    }
   },
   "outputs": [],
   "source": [
    "users = pd.read_json('../exported/users.json')\n",
    "users['_id'] = users['_id'].apply(lambda x: x['$oid'])\n"
   ]
  },
  {
   "cell_type": "code",
   "execution_count": null,
   "metadata": {
    "execution": {
     "iopub.execute_input": "2022-05-13T17:39:39.815644Z",
     "iopub.status.busy": "2022-05-13T17:39:39.815426Z",
     "iopub.status.idle": "2022-05-13T17:39:39.818603Z",
     "shell.execute_reply": "2022-05-13T17:39:39.818236Z"
    }
   },
   "outputs": [],
   "source": [
    "actions['user_id'] = actions['user'].map(\n",
    "    lambda userObject: userObject[\"$oid\"], na_action='ignore')\n"
   ]
  },
  {
   "cell_type": "code",
   "execution_count": null,
   "metadata": {
    "execution": {
     "iopub.execute_input": "2022-05-13T17:39:39.820093Z",
     "iopub.status.busy": "2022-05-13T17:39:39.819987Z",
     "iopub.status.idle": "2022-05-13T17:39:39.823693Z",
     "shell.execute_reply": "2022-05-13T17:39:39.823294Z"
    }
   },
   "outputs": [],
   "source": [
    "actions = actions.merge(users, how='left', left_on='user_id', right_on='_id')\n"
   ]
  },
  {
   "cell_type": "code",
   "execution_count": null,
   "metadata": {
    "execution": {
     "iopub.execute_input": "2022-05-13T17:39:39.825117Z",
     "iopub.status.busy": "2022-05-13T17:39:39.825006Z",
     "iopub.status.idle": "2022-05-13T17:39:39.872064Z",
     "shell.execute_reply": "2022-05-13T17:39:39.871576Z"
    }
   },
   "outputs": [],
   "source": [
    "confessions = pd.read_json('../exported/confessions.json')\n"
   ]
  },
  {
   "cell_type": "code",
   "execution_count": null,
   "metadata": {
    "execution": {
     "iopub.execute_input": "2022-05-13T17:39:39.874094Z",
     "iopub.status.busy": "2022-05-13T17:39:39.873668Z",
     "iopub.status.idle": "2022-05-13T17:39:39.877624Z",
     "shell.execute_reply": "2022-05-13T17:39:39.877249Z"
    }
   },
   "outputs": [],
   "source": [
    "confessions['createdAt'] = confessions['createdAt'].apply(lambda x: x['$date'])\n",
    "confessions['createdAt'] = pd.to_datetime(confessions['createdAt'])\n"
   ]
  },
  {
   "cell_type": "code",
   "execution_count": null,
   "metadata": {
    "execution": {
     "iopub.execute_input": "2022-05-13T17:39:39.879062Z",
     "iopub.status.busy": "2022-05-13T17:39:39.878938Z",
     "iopub.status.idle": "2022-05-13T17:39:39.881833Z",
     "shell.execute_reply": "2022-05-13T17:39:39.881446Z"
    }
   },
   "outputs": [],
   "source": [
    "confessions['_id'] = confessions['_id'].apply(lambda x: x['$oid'])\n"
   ]
  },
  {
   "cell_type": "code",
   "execution_count": null,
   "metadata": {
    "execution": {
     "iopub.execute_input": "2022-05-13T17:39:39.883172Z",
     "iopub.status.busy": "2022-05-13T17:39:39.883054Z",
     "iopub.status.idle": "2022-05-13T17:39:39.949850Z",
     "shell.execute_reply": "2022-05-13T17:39:39.949438Z"
    }
   },
   "outputs": [],
   "source": [
    "confessions['actions'] = confessions['actions'].apply(\n",
    "    lambda x: pd.DataFrame(x))\n"
   ]
  },
  {
   "cell_type": "code",
   "execution_count": null,
   "metadata": {
    "execution": {
     "iopub.execute_input": "2022-05-13T17:39:39.951776Z",
     "iopub.status.busy": "2022-05-13T17:39:39.951637Z",
     "iopub.status.idle": "2022-05-13T17:39:40.432555Z",
     "shell.execute_reply": "2022-05-13T17:39:40.432097Z"
    }
   },
   "outputs": [],
   "source": [
    "confessions['actions'] = confessions['actions'].apply(\n",
    "    lambda actions_df: actions_df.merge(actions, how='left', left_on='$oid', right_on='_id_x'))\n"
   ]
  },
  {
   "cell_type": "code",
   "execution_count": null,
   "metadata": {
    "execution": {
     "iopub.execute_input": "2022-05-13T17:39:40.438972Z",
     "iopub.status.busy": "2022-05-13T17:39:40.438797Z",
     "iopub.status.idle": "2022-05-13T17:39:40.443660Z",
     "shell.execute_reply": "2022-05-13T17:39:40.443121Z"
    }
   },
   "outputs": [],
   "source": [
    "moderator_actions_count = actions[['_id_x', 'username']].groupby(\n",
    "    \"username\").count().reset_index()\n",
    "moderator_actions_count = moderator_actions_count.sort_values(\n",
    "    '_id_x', ascending=False)\n"
   ]
  },
  {
   "cell_type": "code",
   "execution_count": null,
   "metadata": {},
   "outputs": [],
   "source": [
    "moderator_actions_grouped_by_type = actions[['_id_x', 'username', 'type']].groupby(\n",
    "    [\"username\", \"type\"]).count().reset_index()\n"
   ]
  },
  {
   "cell_type": "code",
   "execution_count": null,
   "metadata": {},
   "outputs": [],
   "source": [
    "labels = moderator_actions_grouped_by_type['username'].unique()\n",
    "fig, ax = plot.subplots()\n",
    "\n",
    "action_label_map = {\n",
    "    1: 'Zaakceptowane wpisy',\n",
    "    2: 'Zmiana statusu wpisu na odrzucony',\n",
    "    3: 'Zmiana statusu wpisu na oczekujący',\n",
    "    5: 'Usunięte wpisy',\n",
    "    7: 'Usunięte odpowiedzi do wpisów',\n",
    "    8: 'Zaakceptowane odpowiedzi',\n",
    "    9: 'Zaaktualizowanie tagów wpisu',\n",
    "    10: 'Zmiana statusu odpowiedzi'\n",
    "}\n",
    "\n",
    "action_color_map = {\n",
    "    1: 'green',\n",
    "    2: 'gray',\n",
    "    3: 'gold',\n",
    "    5: 'red',\n",
    "    7: 'hotpink',\n",
    "    8: 'dodgerblue',\n",
    "    9: 'lightsteelblue',\n",
    "    10: 'peru',\n",
    "}\n",
    "\n",
    "\n",
    "bottom = pd.DataFrame([0. for x in labels], columns=['_id_x'], index=labels)\n",
    "\n",
    "for action_type in moderator_actions_grouped_by_type['type'].unique():\n",
    "    color = action_color_map[action_type]\n",
    "    df = moderator_actions_grouped_by_type[moderator_actions_grouped_by_type['type'] == action_type]\n",
    "    values = df[['username', '_id_x']].set_index('username')\n",
    "    ax.bar(df['username'], df['_id_x'], bottom=bottom.loc[df['username']]\n",
    "           ['_id_x'], label=action_label_map[action_type], color=color)\n",
    "    bottom = bottom.add(values, fill_value=0)\n",
    "\n",
    "ax.legend(bbox_to_anchor=(1.05, 1), loc='upper left')\n",
    "\n",
    "plot.savefig(f'{results_path}/top_mods.png', bbox_inches='tight')\n",
    "plot.show()\n"
   ]
  },
  {
   "cell_type": "code",
   "execution_count": null,
   "metadata": {
    "execution": {
     "iopub.execute_input": "2022-05-13T17:39:40.567892Z",
     "iopub.status.busy": "2022-05-13T17:39:40.567725Z",
     "iopub.status.idle": "2022-05-13T17:39:40.576493Z",
     "shell.execute_reply": "2022-05-13T17:39:40.576108Z"
    }
   },
   "outputs": [],
   "source": [
    "# maybe filter out tags removed by moderator? where tag[1] == 0\n",
    "confessions['tag_list'] = confessions.apply(\n",
    "    lambda x: [tag[0] for tag in x['tags']], axis=1)\n"
   ]
  },
  {
   "cell_type": "code",
   "execution_count": null,
   "metadata": {
    "execution": {
     "iopub.execute_input": "2022-05-13T17:39:40.577883Z",
     "iopub.status.busy": "2022-05-13T17:39:40.577764Z",
     "iopub.status.idle": "2022-05-13T17:39:40.582978Z",
     "shell.execute_reply": "2022-05-13T17:39:40.582647Z"
    }
   },
   "outputs": [],
   "source": [
    "import string\n",
    "tag_occurences_list = confessions['tag_list'].explode()\n",
    "unique, counts = np.unique(tag_occurences_list, return_counts=True)\n",
    "tag_occurences = list(zip(unique, counts))\n",
    "tag_occurences = sorted(tag_occurences, key=lambda x: x[1])\n"
   ]
  },
  {
   "cell_type": "code",
   "execution_count": null,
   "metadata": {
    "execution": {
     "iopub.execute_input": "2022-05-13T17:39:40.584420Z",
     "iopub.status.busy": "2022-05-13T17:39:40.584305Z",
     "iopub.status.idle": "2022-05-13T17:39:40.670793Z",
     "shell.execute_reply": "2022-05-13T17:39:40.670302Z"
    }
   },
   "outputs": [],
   "source": [
    "top_tags = tag_occurences[-10:]  # get most used tags\n",
    "top_tags = top_tags[:-1]  # remove most used tag (#anonimowemirkowyznania)\n",
    "tag_labes = [x[0] for x in top_tags]\n",
    "tag_occurences_values = [x[1] for x in top_tags]\n",
    "\n",
    "fix, ax = plot.subplots()\n",
    "ax.grid(color='gray', linestyle='dashed', axis='x')\n",
    "\n",
    "bars = ax.barh(tag_labes, width=tag_occurences_values)\n",
    "ax.bar_label(bars)\n",
    "plot.title('Najczęściej uzywane tagi')\n",
    "plot.xlabel('Ilość wystąpień')\n",
    "\n",
    "plot.savefig(f'{results_path}/top_tags.png', bbox_inches='tight')\n",
    "plot.show()\n"
   ]
  },
  {
   "cell_type": "code",
   "execution_count": null,
   "metadata": {
    "execution": {
     "iopub.execute_input": "2022-05-13T17:39:40.672478Z",
     "iopub.status.busy": "2022-05-13T17:39:40.672357Z",
     "iopub.status.idle": "2022-05-13T17:39:40.973393Z",
     "shell.execute_reply": "2022-05-13T17:39:40.972965Z"
    }
   },
   "outputs": [],
   "source": [
    "def get_first_mod_action(actions_df):\n",
    "    # find first index of action of type accept / decline\n",
    "    idx = actions_df[(actions_df['type'] == 1) | (\n",
    "        actions_df['type'] == 2)].first_valid_index()\n",
    "    return actions_df.iloc[[idx]] if idx else None\n",
    "\n",
    "\n",
    "confessions['1st_mod_action'] = confessions['actions'].map(\n",
    "    get_first_mod_action).map(lambda x: x['time'].iloc[0], na_action='ignore')\n"
   ]
  },
  {
   "cell_type": "code",
   "execution_count": null,
   "metadata": {
    "execution": {
     "iopub.execute_input": "2022-05-13T17:39:40.975196Z",
     "iopub.status.busy": "2022-05-13T17:39:40.975074Z",
     "iopub.status.idle": "2022-05-13T17:39:40.978131Z",
     "shell.execute_reply": "2022-05-13T17:39:40.977672Z"
    }
   },
   "outputs": [],
   "source": [
    "confessions['reaction_time'] = confessions['1st_mod_action'].subtract(\n",
    "    confessions['createdAt'])\n"
   ]
  },
  {
   "cell_type": "code",
   "execution_count": null,
   "metadata": {
    "execution": {
     "iopub.execute_input": "2022-05-13T17:39:40.979639Z",
     "iopub.status.busy": "2022-05-13T17:39:40.979483Z",
     "iopub.status.idle": "2022-05-13T17:39:40.985378Z",
     "shell.execute_reply": "2022-05-13T17:39:40.985025Z"
    }
   },
   "outputs": [],
   "source": [
    "hours_to_react = confessions['reaction_time'].map(\n",
    "    lambda x: x.total_seconds() / (60*60))\n",
    "hours_to_react = hours_to_react[~np.isnan(hours_to_react)]\n",
    "\n",
    "longest_reaction_time = round(hours_to_react.max()+0.5)\n"
   ]
  },
  {
   "cell_type": "code",
   "execution_count": null,
   "metadata": {
    "execution": {
     "iopub.execute_input": "2022-05-13T17:39:40.986851Z",
     "iopub.status.busy": "2022-05-13T17:39:40.986734Z",
     "iopub.status.idle": "2022-05-13T17:39:41.085054Z",
     "shell.execute_reply": "2022-05-13T17:39:41.084532Z"
    }
   },
   "outputs": [],
   "source": [
    "plot.hist(hours_to_react, bins=longest_reaction_time)\n",
    "plot.xlabel('Czas w godzinach do reakcji moderatora')\n",
    "plot.ylabel('Ilość wyznań')\n",
    "plot.title('Czas oczekiwania na zaakceptowanie/odrzucenie wyznania')\n",
    "plot.grid(True)\n",
    "plot.axvline(hours_to_react.mean(), color='black',\n",
    "             linestyle='dashed', linewidth=1)\n",
    "plot.savefig(f'{results_path}/reaction_time_histogram.png',\n",
    "             bbox_inches='tight')\n",
    "plot.show()\n"
   ]
  },
  {
   "cell_type": "code",
   "execution_count": null,
   "metadata": {},
   "outputs": [],
   "source": [
    "replies = pd.read_json('../exported/replies.json')\n",
    "replies['_id'] = replies['_id'].apply(lambda x: x['$oid'])\n"
   ]
  },
  {
   "cell_type": "code",
   "execution_count": null,
   "metadata": {
    "execution": {
     "iopub.execute_input": "2022-05-13T17:39:41.086956Z",
     "iopub.status.busy": "2022-05-13T17:39:41.086808Z",
     "iopub.status.idle": "2022-05-13T17:39:41.118576Z",
     "shell.execute_reply": "2022-05-13T17:39:41.118120Z"
    }
   },
   "outputs": [],
   "source": [
    "fix, (ax1, ax2) = plot.subplots(1, 2, figsize=(10, 10))\n",
    "\n",
    "confessions_pie_data = confessions[['_id', 'status']].groupby('status')\n",
    "replies_pie_data = replies[['_id', 'status']].groupby('status')\n",
    "\n",
    "\n",
    "status_label_map = {\n",
    "    -1: 'Odrzucone',\n",
    "    0: 'Oczekujące',\n",
    "    1: 'Zaakceptowane'\n",
    "}\n",
    "status_color_map = {\n",
    "    -1: 'tab:red',\n",
    "    0: 'tab:orange',\n",
    "    1: 'tab:green'\n",
    "}\n",
    "\n",
    "\n",
    "def display_percentage(x):\n",
    "    return '{:.2f}%'.format(x)\n",
    "\n",
    "\n",
    "ax1.set_title('Statusy wyznań')\n",
    "confession_statuses = list(confessions_pie_data.groups.keys())\n",
    "labels = [status_label_map[status] for status in confession_statuses]\n",
    "colors = [status_color_map[status] for status in confession_statuses]\n",
    "ax1.pie(confessions_pie_data.count()[\n",
    "        '_id'], labels=labels, colors=colors, autopct=display_percentage)\n",
    "\n",
    "\n",
    "ax2.set_title('Statusy odpowiedzi')\n",
    "reply_statuses = list(replies_pie_data.groups.keys())\n",
    "labels = [status_label_map[status] for status in reply_statuses]\n",
    "colors = [status_color_map[status] for status in reply_statuses]\n",
    "ax2.pie(replies_pie_data.count()[\n",
    "        '_id'], labels=labels, colors=colors, autopct=display_percentage)\n",
    "\n",
    "plot.savefig(f'{results_path}/statuses_pie.png', bbox_inches='tight')\n",
    "plot.legend(bbox_to_anchor=(1.05, 1))\n",
    "plot.show()\n"
   ]
  },
  {
   "cell_type": "code",
   "execution_count": null,
   "metadata": {},
   "outputs": [],
   "source": [
    "confessions_added = confessions['_id'].count()\n",
    "confessions_accepted = confessions[confessions['status'] == 1]['_id'].count()\n",
    "confessions_declined = confessions[confessions['status'] == -1]['_id'].count()\n",
    "confessions_waiting = confessions[confessions['status'] == 0]['_id'].count()\n",
    "confessions_removed = actions[actions['type'] == 5]['_id_x'].count()\n",
    "avg_reaction_time = confessions['reaction_time'].mean()\n",
    "\n",
    "confessions_added, confessions_accepted, confessions_declined, confessions_waiting, avg_reaction_time, confessions_removed\n"
   ]
  },
  {
   "cell_type": "code",
   "execution_count": null,
   "metadata": {},
   "outputs": [],
   "source": [
    "replies_added = replies['_id'].count()\n",
    "replies_accepted = replies[replies['status'] == 1]['_id'].count()\n",
    "replies_declined = replies[replies['status'] == -1]['_id'].count()\n",
    "replies_waiting = replies[replies['status'] == 0]['_id'].count()\n",
    "replies_removed = actions[actions['type'] == 7]['_id_x'].count()\n",
    "\n",
    "replies_added, replies_accepted, replies_declined, replies_waiting, replies_removed\n"
   ]
  },
  {
   "cell_type": "code",
   "execution_count": null,
   "metadata": {},
   "outputs": [],
   "source": [
    "heatmap = confessions['_id'].groupby([confessions['createdAt'].dt.date, confessions['createdAt'].dt.hour])"
   ]
  },
  {
   "cell_type": "code",
   "execution_count": null,
   "metadata": {},
   "outputs": [],
   "source": [
    "def get_count_for_date_and_hour(date,hour):\n",
    "    try:\n",
    "        df = heatmap.get_group((date,hour))\n",
    "    except KeyError:\n",
    "        return 0\n",
    "    return df.count()\n",
    "\n",
    "heatmap_days = pd.unique(heatmap.keys[0])\n",
    "heatmap_hours = pd.array([*range(0,24)])\n",
    "\n",
    "data_array = np.array([[get_count_for_date_and_hour(d,h) for h in heatmap_hours] for d in heatmap_days])\n",
    "\n",
    "fig, ax = plot.subplots()\n",
    "im = ax.imshow(data_array)\n",
    "\n",
    "# Show all ticks and label them with the respective list entries\n",
    "ax.set_xticks(np.arange(len(heatmap_hours)), labels=heatmap_hours)\n",
    "ax.set_yticks(np.arange(len(heatmap_days)), labels=heatmap_days)\n",
    "\n",
    "# Rotate the tick labels and set their alignment.\n",
    "plot.setp(ax.get_xticklabels(), rotation=45, ha=\"right\",\n",
    "         rotation_mode=\"anchor\")\n",
    "\n",
    "# Loop over data dimensions and create text annotations.\n",
    "for i in range(len(heatmap_days)):\n",
    "    for j in range(len(heatmap_hours)):\n",
    "        text = ax.text(j, i, get_count_for_date_and_hour(heatmap_days[i], heatmap_hours[j]),\n",
    "                       ha=\"center\", va=\"center\", color=\"w\")\n",
    "\n",
    "ax.set_title(\"Heatmapa ilości dodanych wyznań w godzinach danego dnia\")\n",
    "plot.savefig(f'{results_path}/hour_distribution_heatmap.png',\n",
    "             bbox_inches='tight')\n",
    "plot.show()"
   ]
  },
  {
   "cell_type": "code",
   "execution_count": null,
   "metadata": {},
   "outputs": [],
   "source": [
    "modActivityData = actions[(actions['type'] == 8) | (actions['type'] == 1)]['_id_x'].groupby([actions['time'].dt.date, actions['time'].dt.hour])\n"
   ]
  },
  {
   "cell_type": "code",
   "execution_count": null,
   "metadata": {},
   "outputs": [],
   "source": [
    "def get_count_for_date_and_hour(date,hour):\n",
    "    try:\n",
    "        df = modActivityData.get_group((date,hour))\n",
    "    except KeyError:\n",
    "        return 0\n",
    "    return df.count()\n",
    "\n",
    "heatmap_days = pd.unique(modActivityData.keys[0])\n",
    "heatmap_hours = pd.array([*range(0,24)])\n",
    "\n",
    "data_array = np.array([[get_count_for_date_and_hour(d,h) for h in heatmap_hours] for d in heatmap_days])\n",
    "data_array\n",
    "fig, ax = plot.subplots()\n",
    "im = ax.imshow(data_array)\n",
    "\n",
    "# Show all ticks and label them with the respective list entries\n",
    "ax.set_xticks(np.arange(len(heatmap_hours)), labels=heatmap_hours)\n",
    "ax.set_yticks(np.arange(len(heatmap_days)), labels=heatmap_days)\n",
    "\n",
    "# Rotate the tick labels and set their alignment.\n",
    "plot.setp(ax.get_xticklabels(), rotation=45, ha=\"right\",\n",
    "         rotation_mode=\"anchor\")\n",
    "\n",
    "# Loop over data dimensions and create text annotations.\n",
    "for i in range(len(heatmap_days)):\n",
    "    for j in range(len(heatmap_hours)):\n",
    "        text = ax.text(j, i, get_count_for_date_and_hour(heatmap_days[i], heatmap_hours[j]),\n",
    "                       ha=\"center\", va=\"center\", color=\"w\")\n",
    "\n",
    "ax.set_title(\"Heatmapa zaakceptowanych wpisów i odpowiedzi do wpisów\")\n",
    "plot.savefig(f'{results_path}/mod_activity_heatmap.png',\n",
    "             bbox_inches='tight')\n",
    "plot.show()"
   ]
  },
  {
   "cell_type": "code",
   "execution_count": null,
   "metadata": {},
   "outputs": [],
   "source": [
    "f = open(f\"./{results_path}/result_text.txt\", \"w\")\n",
    "since = os.getenv('SINCE')\n",
    "until = os.getenv('UNTIL')\n",
    "period = os.getenv('PERIOD')\n",
    "f.write(f\"\"\"\n",
    "#anonimowemirkowyznaniastatystyki #amwstats{period}\n",
    "Statystyki z okresu ({since}, {until}):\n",
    "Dodane wyznania: {confessions_added}\n",
    "Zaakceptowane wyznania: {confessions_accepted}\n",
    "Odrzucone wyznania: {confessions_declined}\n",
    "Oczekujące wyznania: {confessions_waiting}\n",
    "Usunięte wyznania (niewliczone są wpisy usunięte przez moderatorów wykopa): {confessions_removed}\n",
    "średni czas oczekiwania na dodanie wydania: {avg_reaction_time}\n",
    "---\n",
    "Dodane odpowiedzi: {replies_added}\n",
    "Zaakceptowane odpowiedzi: {replies_accepted}\n",
    "Odrzucone odpowiedzi: {replies_declined}\n",
    "Oczekujące odpowiedzi: {replies_waiting}\n",
    "Usunięte odpowiedzi (niewliczone są odpowiedzi usunięte przez moderatorów wykopa): {replies_removed}\n",
    "\n",
    "\n",
    "!// source: github.com/cymruu/amw_stats\n",
    "\"\"\")\n",
    "f.close()\n"
   ]
  }
 ],
 "metadata": {
  "interpreter": {
   "hash": "d4d1e4263499bec80672ea0156c357c1ee493ec2b1c70f0acce89fc37c4a6abe"
  },
  "kernelspec": {
   "display_name": "Python 3.9.12 ('base')",
   "language": "python",
   "name": "python3"
  },
  "language_info": {
   "codemirror_mode": {
    "name": "ipython",
    "version": 3
   },
   "file_extension": ".py",
   "mimetype": "text/x-python",
   "name": "python",
   "nbconvert_exporter": "python",
   "pygments_lexer": "ipython3",
   "version": "3.10.6"
  }
 },
 "nbformat": 4,
 "nbformat_minor": 2
}
