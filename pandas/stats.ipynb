{
 "cells": [
  {
   "cell_type": "code",
   "execution_count": 78,
   "metadata": {
    "execution": {
     "iopub.execute_input": "2022-05-13T17:39:39.232830Z",
     "iopub.status.busy": "2022-05-13T17:39:39.232245Z",
     "iopub.status.idle": "2022-05-13T17:39:39.761806Z",
     "shell.execute_reply": "2022-05-13T17:39:39.761116Z"
    }
   },
   "outputs": [],
   "source": [
    "import pandas as pd\n",
    "import numpy as np\n",
    "import matplotlib.pyplot as plot"
   ]
  },
  {
   "cell_type": "code",
   "execution_count": 79,
   "metadata": {
    "execution": {
     "iopub.execute_input": "2022-05-13T17:39:39.763923Z",
     "iopub.status.busy": "2022-05-13T17:39:39.763676Z",
     "iopub.status.idle": "2022-05-13T17:39:39.766352Z",
     "shell.execute_reply": "2022-05-13T17:39:39.765928Z"
    }
   },
   "outputs": [],
   "source": [
    "import os\n",
    "plots_results_path = './results'\n",
    "if not os.path.exists(plots_results_path):\n",
    "    os.mkdir(plots_results_path)"
   ]
  },
  {
   "cell_type": "code",
   "execution_count": 80,
   "metadata": {
    "execution": {
     "iopub.execute_input": "2022-05-13T17:39:39.768002Z",
     "iopub.status.busy": "2022-05-13T17:39:39.767867Z",
     "iopub.status.idle": "2022-05-13T17:39:39.802397Z",
     "shell.execute_reply": "2022-05-13T17:39:39.801957Z"
    }
   },
   "outputs": [],
   "source": [
    "actions = pd.read_json('../exported/actions.json')\n",
    "actions['_id'] = actions['_id'].apply(lambda x: x['$oid'])\n",
    "actions['time'] = actions['time'].apply(lambda x: x['$date'])\n",
    "actions['time'] = pd.to_datetime(actions['time'])\n"
   ]
  },
  {
   "cell_type": "code",
   "execution_count": 81,
   "metadata": {
    "execution": {
     "iopub.execute_input": "2022-05-13T17:39:39.804245Z",
     "iopub.status.busy": "2022-05-13T17:39:39.804123Z",
     "iopub.status.idle": "2022-05-13T17:39:39.813828Z",
     "shell.execute_reply": "2022-05-13T17:39:39.813321Z"
    }
   },
   "outputs": [],
   "source": [
    "users = pd.read_json('../exported/users.json')\n",
    "users['_id'] = users['_id'].apply(lambda x: x['$oid'])\n"
   ]
  },
  {
   "cell_type": "code",
   "execution_count": 82,
   "metadata": {
    "execution": {
     "iopub.execute_input": "2022-05-13T17:39:39.815644Z",
     "iopub.status.busy": "2022-05-13T17:39:39.815426Z",
     "iopub.status.idle": "2022-05-13T17:39:39.818603Z",
     "shell.execute_reply": "2022-05-13T17:39:39.818236Z"
    }
   },
   "outputs": [],
   "source": [
    "actions['user_id'] = actions['user'].map(\n",
    "    lambda userObject: userObject[\"$oid\"], na_action='ignore')\n"
   ]
  },
  {
   "cell_type": "code",
   "execution_count": 83,
   "metadata": {
    "execution": {
     "iopub.execute_input": "2022-05-13T17:39:39.820093Z",
     "iopub.status.busy": "2022-05-13T17:39:39.819987Z",
     "iopub.status.idle": "2022-05-13T17:39:39.823693Z",
     "shell.execute_reply": "2022-05-13T17:39:39.823294Z"
    }
   },
   "outputs": [],
   "source": [
    "actions = actions.merge(users, how='left', left_on='user_id', right_on='_id')\n"
   ]
  },
  {
   "cell_type": "code",
   "execution_count": 84,
   "metadata": {
    "execution": {
     "iopub.execute_input": "2022-05-13T17:39:39.825117Z",
     "iopub.status.busy": "2022-05-13T17:39:39.825006Z",
     "iopub.status.idle": "2022-05-13T17:39:39.872064Z",
     "shell.execute_reply": "2022-05-13T17:39:39.871576Z"
    }
   },
   "outputs": [],
   "source": [
    "confessions = pd.read_json('../exported/confessions.json')\n"
   ]
  },
  {
   "cell_type": "code",
   "execution_count": 85,
   "metadata": {
    "execution": {
     "iopub.execute_input": "2022-05-13T17:39:39.874094Z",
     "iopub.status.busy": "2022-05-13T17:39:39.873668Z",
     "iopub.status.idle": "2022-05-13T17:39:39.877624Z",
     "shell.execute_reply": "2022-05-13T17:39:39.877249Z"
    }
   },
   "outputs": [],
   "source": [
    "confessions['createdAt'] = confessions['createdAt'].apply(lambda x: x['$date'])\n",
    "confessions['createdAt'] = pd.to_datetime(confessions['createdAt'])\n"
   ]
  },
  {
   "cell_type": "code",
   "execution_count": 86,
   "metadata": {
    "execution": {
     "iopub.execute_input": "2022-05-13T17:39:39.879062Z",
     "iopub.status.busy": "2022-05-13T17:39:39.878938Z",
     "iopub.status.idle": "2022-05-13T17:39:39.881833Z",
     "shell.execute_reply": "2022-05-13T17:39:39.881446Z"
    }
   },
   "outputs": [],
   "source": [
    "confessions['_id'] = confessions['_id'].apply(lambda x: x['$oid'])\n"
   ]
  },
  {
   "cell_type": "code",
   "execution_count": 87,
   "metadata": {
    "execution": {
     "iopub.execute_input": "2022-05-13T17:39:39.883172Z",
     "iopub.status.busy": "2022-05-13T17:39:39.883054Z",
     "iopub.status.idle": "2022-05-13T17:39:39.949850Z",
     "shell.execute_reply": "2022-05-13T17:39:39.949438Z"
    }
   },
   "outputs": [],
   "source": [
    "confessions['actions'] = confessions['actions'].apply(\n",
    "    lambda x: pd.DataFrame(x))\n"
   ]
  },
  {
   "cell_type": "code",
   "execution_count": 88,
   "metadata": {
    "execution": {
     "iopub.execute_input": "2022-05-13T17:39:39.951776Z",
     "iopub.status.busy": "2022-05-13T17:39:39.951637Z",
     "iopub.status.idle": "2022-05-13T17:39:40.432555Z",
     "shell.execute_reply": "2022-05-13T17:39:40.432097Z"
    }
   },
   "outputs": [],
   "source": [
    "confessions['actions'] = confessions['actions'].apply(\n",
    "    lambda actions_df: actions_df.merge(actions, how='left', left_on='$oid', right_on='_id_x'))\n"
   ]
  },
  {
   "cell_type": "code",
   "execution_count": 89,
   "metadata": {
    "execution": {
     "iopub.execute_input": "2022-05-13T17:39:40.438972Z",
     "iopub.status.busy": "2022-05-13T17:39:40.438797Z",
     "iopub.status.idle": "2022-05-13T17:39:40.443660Z",
     "shell.execute_reply": "2022-05-13T17:39:40.443121Z"
    }
   },
   "outputs": [],
   "source": [
    "moderator_actions_count = actions[['_id_x', 'username']].groupby(\n",
    "    \"username\").count().reset_index()\n"
   ]
  },
  {
   "cell_type": "code",
   "execution_count": 90,
   "metadata": {
    "execution": {
     "iopub.execute_input": "2022-05-13T17:39:40.445813Z",
     "iopub.status.busy": "2022-05-13T17:39:40.445300Z",
     "iopub.status.idle": "2022-05-13T17:39:40.448238Z",
     "shell.execute_reply": "2022-05-13T17:39:40.447817Z"
    }
   },
   "outputs": [],
   "source": [
    "moderator_actions_count = moderator_actions_count.sort_values(\n",
    "    '_id_x', ascending=False)\n"
   ]
  },
  {
   "cell_type": "code",
   "execution_count": 91,
   "metadata": {
    "execution": {
     "iopub.execute_input": "2022-05-13T17:39:40.449973Z",
     "iopub.status.busy": "2022-05-13T17:39:40.449814Z",
     "iopub.status.idle": "2022-05-13T17:39:40.550307Z",
     "shell.execute_reply": "2022-05-13T17:39:40.549877Z"
    }
   },
   "outputs": [
    {
     "data": {
      "image/png": "[encoded data removed]",
      "text/plain": [
       "<Figure size 432x288 with 1 Axes>"
      ]
     },
     "metadata": {
      "needs_background": "light"
     },
     "output_type": "display_data"
    }
   ],
   "source": [
    "fig, ax = plot.subplots()\n",
    "ax.grid(color='gray', linestyle='dashed', axis='y')\n",
    "bars = ax.bar(moderator_actions_count['username'],\n",
    "         height=moderator_actions_count['_id_x'])\n",
    "ax.bar_label(bars)\n",
    "plot.ylabel('Wykonane akcje')\n",
    "plot.xlabel('Moderator')\n",
    "plot.title('Ilość wykonanych akcji w ciągu ostatniego tygodnia przez moderatorów')\n",
    "\n",
    "plot.savefig(f'{plots_results_path}/top_mods.png')\n",
    "plot.show()\n"
   ]
  },
  {
   "cell_type": "code",
   "execution_count": 92,
   "metadata": {
    "execution": {
     "iopub.execute_input": "2022-05-13T17:39:40.567892Z",
     "iopub.status.busy": "2022-05-13T17:39:40.567725Z",
     "iopub.status.idle": "2022-05-13T17:39:40.576493Z",
     "shell.execute_reply": "2022-05-13T17:39:40.576108Z"
    }
   },
   "outputs": [],
   "source": [
    "# maybe filter out tags removed by moderator? where tag[1] == 0\n",
    "confessions['tag_list'] = confessions.apply(\n",
    "    lambda x: [tag[0] for tag in x['tags']], axis=1)\n"
   ]
  },
  {
   "cell_type": "code",
   "execution_count": 93,
   "metadata": {
    "execution": {
     "iopub.execute_input": "2022-05-13T17:39:40.577883Z",
     "iopub.status.busy": "2022-05-13T17:39:40.577764Z",
     "iopub.status.idle": "2022-05-13T17:39:40.582978Z",
     "shell.execute_reply": "2022-05-13T17:39:40.582647Z"
    }
   },
   "outputs": [],
   "source": [
    "import string\n",
    "tag_occurences_list = confessions['tag_list'].explode()\n",
    "unique, counts = np.unique(tag_occurences_list, return_counts=True)\n",
    "tag_occurences = list(zip(unique, counts))\n",
    "tag_occurences = sorted(tag_occurences, key=lambda x: x[1])\n"
   ]
  },
  {
   "cell_type": "code",
   "execution_count": 94,
   "metadata": {
    "execution": {
     "iopub.execute_input": "2022-05-13T17:39:40.584420Z",
     "iopub.status.busy": "2022-05-13T17:39:40.584305Z",
     "iopub.status.idle": "2022-05-13T17:39:40.670793Z",
     "shell.execute_reply": "2022-05-13T17:39:40.670302Z"
    }
   },
   "outputs": [
    {
     "data": {
      "image/png": "[encoded data removed]",
      "text/plain": [
       "<Figure size 432x288 with 1 Axes>"
      ]
     },
     "metadata": {
      "needs_background": "light"
     },
     "output_type": "display_data"
    }
   ],
   "source": [
    "# TODO: https://stackoverflow.com/a/68107816/4183352\n",
    "top_tags = tag_occurences[-10:]  # get most used tags\n",
    "top_tags = top_tags[:-1]  # remove most used tag (#anonimowemirkowyznania)\n",
    "tag_labes = [x[0] for x in top_tags]\n",
    "tag_occurences_values = [x[1] for x in top_tags]\n",
    "\n",
    "fix,ax = plot.subplots()\n",
    "ax.grid(color='gray', linestyle='dashed', axis='x')\n",
    "\n",
    "bars = ax.barh(tag_labes, width=tag_occurences_values)\n",
    "ax.bar_label(bars)\n",
    "plot.title('Najczęściej uzywane tagi')\n",
    "plot.xlabel('Ilość wystąpień')\n",
    "\n",
    "plot.savefig(f'{plots_results_path}/top_tags.png')\n",
    "plot.show()\n"
   ]
  },
  {
   "cell_type": "code",
   "execution_count": 95,
   "metadata": {
    "execution": {
     "iopub.execute_input": "2022-05-13T17:39:40.672478Z",
     "iopub.status.busy": "2022-05-13T17:39:40.672357Z",
     "iopub.status.idle": "2022-05-13T17:39:40.973393Z",
     "shell.execute_reply": "2022-05-13T17:39:40.972965Z"
    }
   },
   "outputs": [],
   "source": [
    "def get_first_mod_action(actions_df):\n",
    "    # find first index of action of type accept / decline\n",
    "    idx = actions_df[(actions_df['type'] == 1) | (\n",
    "        actions_df['type'] == 2)].first_valid_index()\n",
    "    return actions_df.iloc[[idx]] if idx else None\n",
    "\n",
    "\n",
    "confessions['1st_mod_action'] = confessions['actions'].map(\n",
    "    get_first_mod_action).map(lambda x: x['time'].iloc[0], na_action='ignore')\n"
   ]
  },
  {
   "cell_type": "code",
   "execution_count": 96,
   "metadata": {
    "execution": {
     "iopub.execute_input": "2022-05-13T17:39:40.975196Z",
     "iopub.status.busy": "2022-05-13T17:39:40.975074Z",
     "iopub.status.idle": "2022-05-13T17:39:40.978131Z",
     "shell.execute_reply": "2022-05-13T17:39:40.977672Z"
    }
   },
   "outputs": [],
   "source": [
    "confessions['reaction_time'] = confessions['1st_mod_action'].subtract(\n",
    "    confessions['createdAt'])\n"
   ]
  },
  {
   "cell_type": "code",
   "execution_count": 97,
   "metadata": {
    "execution": {
     "iopub.execute_input": "2022-05-13T17:39:40.979639Z",
     "iopub.status.busy": "2022-05-13T17:39:40.979483Z",
     "iopub.status.idle": "2022-05-13T17:39:40.985378Z",
     "shell.execute_reply": "2022-05-13T17:39:40.985025Z"
    }
   },
   "outputs": [],
   "source": [
    "hours_to_react = confessions['reaction_time'].map(lambda x: x.total_seconds() / (60*60))\n",
    "hours_to_react = hours_to_react[~np.isnan(hours_to_react)]"
   ]
  },
  {
   "cell_type": "code",
   "execution_count": 98,
   "metadata": {
    "execution": {
     "iopub.execute_input": "2022-05-13T17:39:40.986851Z",
     "iopub.status.busy": "2022-05-13T17:39:40.986734Z",
     "iopub.status.idle": "2022-05-13T17:39:41.085054Z",
     "shell.execute_reply": "2022-05-13T17:39:41.084532Z"
    }
   },
   "outputs": [
    {
     "data": {
      "image/png": "[encoded data removed]",
      "text/plain": [
       "<Figure size 432x288 with 1 Axes>"
      ]
     },
     "metadata": {
      "needs_background": "light"
     },
     "output_type": "display_data"
    }
   ],
   "source": [
    "plot.hist(hours_to_react, 60)\n",
    "plot.xlabel('Czas w godzinach do reakcji moderatora')\n",
    "plot.ylabel('Ilość wyznań')\n",
    "plot.title('Czas oczekiwania na zaakceptowanie wyznania')\n",
    "plot.grid(True)\n",
    "\n",
    "plot.savefig(f'{plots_results_path}/reaction_time_histogram.png')\n",
    "plot.show()"
   ]
  },
  {
   "cell_type": "code",
   "execution_count": null,
   "metadata": {},
   "outputs": [],
   "source": []
  },
  {
   "cell_type": "code",
   "execution_count": 99,
   "metadata": {
    "execution": {
     "iopub.execute_input": "2022-05-13T17:39:41.086956Z",
     "iopub.status.busy": "2022-05-13T17:39:41.086808Z",
     "iopub.status.idle": "2022-05-13T17:39:41.118576Z",
     "shell.execute_reply": "2022-05-13T17:39:41.118120Z"
    }
   },
   "outputs": [
    {
     "data": {
      "image/png": "[encoded data removed]",
      "text/plain": [
       "<Figure size 432x288 with 1 Axes>"
      ]
     },
     "metadata": {},
     "output_type": "display_data"
    }
   ],
   "source": [
    "data = confessions[['_id', 'status']].groupby('status')\n",
    "statuses = list(data.groups.keys())\n",
    "status_label_map = {\n",
    "    -1: 'Odrzucone',\n",
    "    0: 'Oczekujące',\n",
    "    1: 'Zaakceptowane'\n",
    "}\n",
    "status_color_map = {\n",
    "    -1: 'tab:red',\n",
    "    0: 'tab:orange',\n",
    "    1: 'tab:green'\n",
    "}\n",
    "labels = [status_label_map[status] for status in statuses]\n",
    "colors = [status_color_map[status] for status in statuses]\n",
    "plot.pie(data.count()['_id'], labels=labels, colors=colors)\n",
    "\n",
    "plot.savefig(f'{plots_results_path}/statuses_pie.png')\n",
    "plot.show()"
   ]
  },
  {
   "cell_type": "code",
   "execution_count": 100,
   "metadata": {},
   "outputs": [
    {
     "data": {
      "text/plain": [
       "(700, 480, 115, '0 days 16:36:38.439843697')"
      ]
     },
     "execution_count": 100,
     "metadata": {},
     "output_type": "execute_result"
    }
   ],
   "source": [
    "confessions_added = confessions['_id'].count()\n",
    "confessions_accepted = confessions[confessions['status']==1]['_id'].count()\n",
    "confessions_declined = confessions[confessions['status']==-1]['_id'].count()\n",
    "avg_reaction_time = confessions['reaction_time'].mean()\n",
    "confessions_added, confessions_accepted, confessions_declined, avg_reaction_time"
   ]
  },
  {
   "cell_type": "code",
   "execution_count": null,
   "metadata": {},
   "outputs": [],
   "source": [
    "f = open(f\"./results/result_text.txt\", \"w\")\n",
    "since = os.getenv('SINCE')\n",
    "until = os.getenv('UNTIL')\n",
    "f.write(f\"\"\"\n",
    "#anonimowemirkowyznaniastatystyki\n",
    "Statystyki z ostatniego tygodnia ({since}, {until}):\n",
    "Dodane wyznania: {confessions_added}\n",
    "Zaakceptowane wyznania: {confessions_accepted}\n",
    "Odrzucone wyznania: {confessions_declined}\n",
    "\n",
    "średni czas oczekiwania na dodanie wydania: {avg_reaction_time}\n",
    "\"\"\")\n",
    "f.close()"
   ]
  }
 ],
 "metadata": {
  "interpreter": {
   "hash": "d4d1e4263499bec80672ea0156c357c1ee493ec2b1c70f0acce89fc37c4a6abe"
  },
  "kernelspec": {
   "display_name": "Python 3.9.12 ('base')",
   "language": "python",
   "name": "python3"
  },
  "language_info": {
   "codemirror_mode": {
    "name": "ipython",
    "version": 3
   },
   "file_extension": ".py",
   "mimetype": "text/x-python",
   "name": "python",
   "nbconvert_exporter": "python",
   "pygments_lexer": "ipython3",
   "version": "3.9.12"
  }
 },
 "nbformat": 4,
 "nbformat_minor": 2
}
